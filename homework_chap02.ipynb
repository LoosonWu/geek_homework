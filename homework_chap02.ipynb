{
  "nbformat": 4,
  "nbformat_minor": 0,
  "metadata": {
    "colab": {
      "name": "homework-chap02.ipynb",
      "provenance": [],
      "collapsed_sections": [],
      "authorship_tag": "ABX9TyNktUhOFLhQ2rvi4q0mMEga",
      "include_colab_link": true
    },
    "kernelspec": {
      "display_name": "Python 3",
      "name": "python3"
    },
    "language_info": {
      "name": "python"
    }
  },
  "cells": [
    {
      "cell_type": "markdown",
      "metadata": {
        "id": "view-in-github",
        "colab_type": "text"
      },
      "source": [
        "<a href=\"https://colab.research.google.com/github/LoosonWu/geek_homework/blob/main/homework_chap02.ipynb\" target=\"_parent\"><img src=\"https://colab.research.google.com/assets/colab-badge.svg\" alt=\"Open In Colab\"/></a>"
      ]
    },
    {
      "cell_type": "code",
      "metadata": {
        "colab": {
          "base_uri": "https://localhost:8080/"
        },
        "id": "Zle6gviQBBnE",
        "outputId": "7beb7647-9764-4361-fafd-3376d54b124d"
      },
      "source": [
        "%load_ext Cython"
      ],
      "execution_count": 5,
      "outputs": [
        {
          "output_type": "stream",
          "text": [
            "The Cython extension is already loaded. To reload it, use:\n",
            "  %reload_ext Cython\n"
          ],
          "name": "stdout"
        }
      ]
    },
    {
      "cell_type": "code",
      "metadata": {
        "colab": {
          "base_uri": "https://localhost:8080/"
        },
        "id": "PSuO-zHKBlua",
        "outputId": "1d1f85ff-39d0-421f-c9a0-19f17907b592"
      },
      "source": [
        "%%cython\n",
        "\n",
        "def hello():\n",
        "    print(\"hello\")\n",
        "\n",
        "hello()"
      ],
      "execution_count": 11,
      "outputs": [
        {
          "output_type": "stream",
          "text": [
            "hello\n"
          ],
          "name": "stdout"
        }
      ]
    },
    {
      "cell_type": "code",
      "metadata": {
        "id": "1sHYPpb9Bwwb"
      },
      "source": [
        "%%cython\n",
        "import numpy as np\n",
        "cimport numpy as np\n"
      ],
      "execution_count": 10,
      "outputs": []
    },
    {
      "cell_type": "code",
      "metadata": {
        "id": "rNZom46XHjeF"
      },
      "source": [
        "%%cython\n",
        "import numpy as np\n",
        "cimport numpy as np\n",
        "import time as time\n",
        "import pandas as pd\n",
        "\n",
        "cpdef target_mean_v3(data, y_name, x_name):\n",
        "    cdef long nrow = data.shape[0]\n",
        "    cdef np.ndarray[double] result = np.asfortranarray(np.zeros(nrow), dtype=np.float64)\n",
        "    cdef np.ndarray[double] y = np.asfortranarray(data[y_name], dtype=np.float64)\n",
        "    cdef np.ndarray[double] x = np.asfortranarray(data[x_name], dtype=np.float64)\n",
        "\n",
        "    target_mean_v3_impl(result, y, x, nrow)\n",
        "    return result\n",
        "\n",
        "cdef void target_mean_v3_impl(double[:] result, double[:] y, double[:] x, const long nrow):\n",
        "    cdef dict value_dict = dict()\n",
        "    cdef dict count_dict = dict()\n",
        "\n",
        "    cdef long i\n",
        "    for i in range(nrow):\n",
        "        if x[i] not in value_dict.keys():\n",
        "            value_dict[x[i]] = y[i]\n",
        "            count_dict[x[i]] = 1\n",
        "        else:\n",
        "            value_dict[x[i]] += y[i]\n",
        "            count_dict[x[i]] += 1\n",
        "    i=0\n",
        "    for i in range(nrow):\n",
        "        result[i] = (value_dict[x[i]] - y[i])/(count_dict[x[i]]-1)\n",
        "\n"
      ],
      "execution_count": 106,
      "outputs": []
    },
    {
      "cell_type": "code",
      "metadata": {
        "id": "mgBTK1DGI4BM"
      },
      "source": [
        "def target_mean_v2(data, y_name, x_name):\n",
        "    result = np.zeros(data.shape[0])\n",
        "    value_dict = dict()\n",
        "    count_dict = dict()\n",
        "    for i in range(data.shape[0]):\n",
        "        if data.loc[i, x_name] not in value_dict.keys():\n",
        "            value_dict[data.loc[i, x_name]] = data.loc[i, y_name]\n",
        "            count_dict[data.loc[i, x_name]] = 1\n",
        "        else:\n",
        "            value_dict[data.loc[i, x_name]] += data.loc[i, y_name]\n",
        "            count_dict[data.loc[i, x_name]] += 1\n",
        "    for i in range(data.shape[0]):\n",
        "        result[i] = (value_dict[data.loc[i, x_name]] - data.loc[i, y_name]) / (count_dict[data.loc[i, x_name]] - 1)\n",
        "    return result"
      ],
      "execution_count": 23,
      "outputs": []
    },
    {
      "cell_type": "code",
      "metadata": {
        "id": "l5Sws_usMYlF"
      },
      "source": [
        "%%cython\n",
        "import numpy as np\n",
        "cimport numpy as np\n",
        "import time as time\n",
        "import pandas as pd\n",
        "\n",
        "cpdef target_mean_v4(data, y_name, x_name):\n",
        "    cdef long nrow = data.shape[0]\n",
        "    cdef np.ndarray[double] result = np.asfortranarray(np.zeros(nrow), dtype=np.float64)\n",
        "    cdef np.ndarray[double] y = np.asfortranarray(data[y_name], dtype=np.float64)\n",
        "    cdef np.ndarray[double] x = np.asfortranarray(data[x_name], dtype=np.float64)\n",
        "\n",
        "    target_mean_v4_impl(result, y, x, nrow)\n",
        "    return result\n",
        "\n",
        "cdef void target_mean_v4_impl(double[:] result, double[:] y, double[:] x, const long nrow):\n",
        "    cdef dict value_dict = dict()\n",
        "    cdef dict count_dict = dict()\n",
        "    cdef long i\n",
        "    for i in range(10):\n",
        "      value_dict[i] = 0\n",
        "      count_dict[i] = 0\n",
        "\n",
        "    i=0\n",
        "    for i in range(nrow):\n",
        "      value_dict[x[i]] += y[i]\n",
        "      count_dict[x[i]] += 1\n",
        "    i=0\n",
        "    for i in range(nrow):\n",
        "      result[i] = (value_dict[x[i]] - y[i])/(count_dict[x[i]]-1)"
      ],
      "execution_count": 124,
      "outputs": []
    },
    {
      "cell_type": "code",
      "metadata": {
        "colab": {
          "base_uri": "https://localhost:8080/"
        },
        "id": "bF3aBPdvIBhd",
        "outputId": "8a04726f-01be-4638-ea1f-c34f60462027"
      },
      "source": [
        "y = np.random.randint(2, size=(5000, 1))\n",
        "\n",
        "x = np.random.randint(10, size=(5000, 1))\n",
        "\n",
        "data = pd.DataFrame(np.concatenate([y, x], axis=1), columns=['y', 'x'])\n",
        "start = time.time()\n",
        "result_2 = target_mean_v2(data, 'y', 'x')\n",
        "end = time.time()\n",
        "print(end - start)\n",
        "start = time.time()\n",
        "result_3 = target_mean_v3(data, 'y', 'x')\n",
        "end = time.time()\n",
        "print(end - start)\n",
        "diff = np.linalg.norm(result_2 - result_3)\n",
        "print(diff)\n",
        "start = time.time()\n",
        "result_4 = target_mean_v4(data, 'y', 'x')\n",
        "end = time.time()\n",
        "print(end - start)\n",
        "diff4 = np.linalg.norm(result_2 - result_4)\n",
        "print(diff4)"
      ],
      "execution_count": 125,
      "outputs": [
        {
          "output_type": "stream",
          "text": [
            "0.48299336433410645\n",
            "0.0035452842712402344\n",
            "0.0\n",
            "0.0035216808319091797\n",
            "0.0\n"
          ],
          "name": "stdout"
        }
      ]
    }
  ]
}